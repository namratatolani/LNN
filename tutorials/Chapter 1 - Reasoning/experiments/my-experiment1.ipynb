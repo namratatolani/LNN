{
 "cells": [
  {
   "cell_type": "code",
   "execution_count": 14,
   "id": "14d2ffbf",
   "metadata": {},
   "outputs": [],
   "source": [
    "from lnn import Propositions, And, Fact, Variables, Predicate, Predicates"
   ]
  },
  {
   "cell_type": "code",
   "execution_count": 15,
   "id": "5709e460",
   "metadata": {},
   "outputs": [],
   "source": [
    "A, B, C = Propositions('A', 'B', 'C')"
   ]
  },
  {
   "cell_type": "code",
   "execution_count": 16,
   "id": "bdf1b77d",
   "metadata": {},
   "outputs": [],
   "source": [
    "AND = And(A,B,C)"
   ]
  },
  {
   "cell_type": "code",
   "execution_count": 17,
   "id": "e839698c",
   "metadata": {},
   "outputs": [
    {
     "name": "stdout",
     "output_type": "stream",
     "text": [
      "OPEN And: (A ∧ B ∧ C)                                    UNKNOWN (0.0, 1.0)\n",
      "\n"
     ]
    }
   ],
   "source": [
    "AND.print()"
   ]
  },
  {
   "cell_type": "code",
   "execution_count": 20,
   "id": "f1bde7f3",
   "metadata": {},
   "outputs": [],
   "source": [
    "P1 = Predicate('P1')\n",
    "P2 = Predicate('P2', arity=2)"
   ]
  },
  {
   "cell_type": "code",
   "execution_count": 21,
   "id": "b4135db1",
   "metadata": {},
   "outputs": [
    {
     "name": "stdout",
     "output_type": "stream",
     "text": [
      "OPEN Predicate: P1 \n",
      "\n"
     ]
    }
   ],
   "source": [
    "P1.print()"
   ]
  },
  {
   "cell_type": "code",
   "execution_count": 22,
   "id": "33e58bcb",
   "metadata": {},
   "outputs": [
    {
     "name": "stdout",
     "output_type": "stream",
     "text": [
      "OPEN Predicate: P2 \n",
      "\n"
     ]
    }
   ],
   "source": [
    "P2.print()"
   ]
  },
  {
   "cell_type": "code",
   "execution_count": 19,
   "id": "2079f10a",
   "metadata": {},
   "outputs": [
    {
     "name": "stdout",
     "output_type": "stream",
     "text": [
      "OPEN And: (A(0) ∧ B(0, 1) ∧ C(1)) \n",
      "\n"
     ]
    }
   ],
   "source": [
    "x, y = Variables('x', 'y')\n",
    "A, C = Predicates('A', 'C')\n",
    "B = Predicate('B', arity=2)\n",
    "AND = And(A(x), B(x, y), C(y))\n",
    "AND.print()"
   ]
  },
  {
   "cell_type": "code",
   "execution_count": null,
   "id": "22fefe66",
   "metadata": {},
   "outputs": [],
   "source": []
  }
 ],
 "metadata": {
  "kernelspec": {
   "display_name": "lnn",
   "language": "python",
   "name": "lnn"
  },
  "language_info": {
   "codemirror_mode": {
    "name": "ipython",
    "version": 3
   },
   "file_extension": ".py",
   "mimetype": "text/x-python",
   "name": "python",
   "nbconvert_exporter": "python",
   "pygments_lexer": "ipython3",
   "version": "3.9.16"
  }
 },
 "nbformat": 4,
 "nbformat_minor": 5
}
